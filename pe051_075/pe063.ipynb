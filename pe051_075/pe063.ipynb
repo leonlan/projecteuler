{
 "cells": [
  {
   "cell_type": "markdown",
   "metadata": {},
   "source": [
    "# Date solved: 22 November 2018\n",
    "\n",
    "# Problem 63: Powerful digit counts\n",
    "https://projecteuler.net/problem=63\n",
    "\n",
    "\n",
    "The 5-digit number, 16807=75, is also a fifth power. Similarly, the 9-digit number, 134217728=89, is a ninth power.\n",
    "\n",
    "How many n-digit positive integers exist which are also an nth power?    "
   ]
  },
  {
   "cell_type": "markdown",
   "metadata": {},
   "source": [
    "# Solution\n",
    "We know that the length of $10^{n}$ has $n+1$ digits for any positive integer n. Hence, only for the integers $1, 2, \\dots, 9$ to the power of $n$ might result in a $n$ digit number. \n",
    "\n",
    "\n",
    "Our goal is now as follows: given the power $k$, what is the smallest integer below 10 such that its power has $k$ digits? Is there a power $k$ for which there exists no such integer? The answer to the last question will give us an upper bound for the powers that we need to consider. \n",
    "\n",
    "By pencil and paper, we found that $9^{21}$ has $21$ digits, but $9^{22}$ also has $21$ digits. That means that for any power  above 21, there exists no integer such that its $n$-th power also has $n$ digits."
   ]
  },
  {
   "cell_type": "code",
   "execution_count": 42,
   "metadata": {},
   "outputs": [
    {
     "data": {
      "text/plain": [
       "49"
      ]
     },
     "execution_count": 42,
     "metadata": {},
     "output_type": "execute_result"
    }
   ],
   "source": [
    "def powerful_digit_counts():\n",
    "    \"\"\"Finds the number of n-digit integers which are also nth power.\"\"\"\n",
    "    count = 0\n",
    "    for i in range(1,22):\n",
    "        for j in range(1,10):\n",
    "            if len(str(j**i)) == i:\n",
    "                count += 10-j\n",
    "                break\n",
    "    return(count)\n",
    "\n",
    "powerful_digit_counts()"
   ]
  }
 ],
 "metadata": {
  "kernelspec": {
   "display_name": "Python 3",
   "language": "python",
   "name": "python3"
  },
  "language_info": {
   "codemirror_mode": {
    "name": "ipython",
    "version": 3
   },
   "file_extension": ".py",
   "mimetype": "text/x-python",
   "name": "python",
   "nbconvert_exporter": "python",
   "pygments_lexer": "ipython3",
   "version": "3.7.0"
  }
 },
 "nbformat": 4,
 "nbformat_minor": 2
}
