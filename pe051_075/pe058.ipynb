{
 "cells": [
  {
   "cell_type": "markdown",
   "metadata": {},
   "source": [
    "# Date solved: 22 November 2018\n",
    "\n",
    "# Problem 58: Spiral primes\n",
    "https://projecteuler.net/problem=58\n",
    "\n",
    "\n",
    "\n",
    "Starting with 1 and spiralling anticlockwise in the following way, a square spiral with side length 7 is formed.\n",
    "\n",
    "(see link for square)\n",
    "\n",
    "It is interesting to note that the odd squares lie along the bottom right diagonal, but what is more interesting is that 8 out of the 13 numbers lying along both diagonals are prime; that is, a ratio of 8/13 ≈ 62%.\n",
    "\n",
    "If one complete new layer is wrapped around the spiral above, a square spiral with side length 9 will be formed. If this process is continued, what is the side length of the square spiral for which the ratio of primes along both diagonals first falls below 10%?\n",
    "    "
   ]
  },
  {
   "cell_type": "markdown",
   "metadata": {},
   "source": [
    "# Solution\n",
    "This problem is closely related to [Problem 28](https://projecteuler.net/problem=28), where we had to calculate the sum of the numbers along the diagonal. In my solution to Problem 28, we found the following formula for each of the numbers on the n-th layer of the spiral square:\n",
    "\n",
    "$$  \n",
    "\\begin{align*}\n",
    "  n^2 - (n-1)i &    &\\text{for}\\ i \\in \\{0,1,2,3\\}\\\\\n",
    "\\end{align*}\n",
    "$$\n",
    "\n",
    "So, for a square of size 3x3 we can compute the diagonal values using the equation above with $n=3$. We can now just simply write a while loop that calculates the ratio of the primes on the diagonals, where $n = 3, 5, 7, \\dots$ until we hit a $n$ such that the ratio falls below 10%.\n",
    "\n"
   ]
  },
  {
   "cell_type": "code",
   "execution_count": 8,
   "metadata": {},
   "outputs": [
    {
     "data": {
      "text/plain": [
       "26241"
      ]
     },
     "execution_count": 8,
     "metadata": {},
     "output_type": "execute_result"
    }
   ],
   "source": [
    "import sys\n",
    "sys.path.append(\"..\")\n",
    "from helperfunctions import prime\n",
    "\n",
    "def spiral_primes(percentage):\n",
    "    ratio = 1\n",
    "    prime_count = 0\n",
    "    n = 1\n",
    "    j = 1\n",
    "    while ratio > percentage:\n",
    "        n += 2\n",
    "        for i in range(4):\n",
    "            if prime(n**2-(n-1)*i):\n",
    "                prime_count += 1\n",
    "        ratio = prime_count / (((n-1)//2)*4+1) # divided by the number of diagonal elements\n",
    "    return(n)\n",
    "\n",
    "spiral_primes(0.1)"
   ]
  }
 ],
 "metadata": {
  "kernelspec": {
   "display_name": "Python 3",
   "language": "python",
   "name": "python3"
  },
  "language_info": {
   "codemirror_mode": {
    "name": "ipython",
    "version": 3
   },
   "file_extension": ".py",
   "mimetype": "text/x-python",
   "name": "python",
   "nbconvert_exporter": "python",
   "pygments_lexer": "ipython3",
   "version": "3.7.0"
  }
 },
 "nbformat": 4,
 "nbformat_minor": 2
}
