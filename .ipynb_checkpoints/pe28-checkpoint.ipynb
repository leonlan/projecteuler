{
 "cells": [
  {
   "cell_type": "markdown",
   "metadata": {},
   "source": [
    "# Problem\n",
    "https://projecteuler.net/problem=28\n",
    "\n",
    "Starting with the number 1 and moving to the right in a clockwise direction a 5 by 5 spiral is formed as follows:\n",
    "\n",
    "```\n",
    "21 22 23 24 25\n",
    "20  7  8  9 10\n",
    "19  6  1  2 11\n",
    "18  5  4  3 12\n",
    "17 16 15 14 13\n",
    "```\n",
    "It can be verified that the sum of the numbers on the diagonals is 101.\n",
    "\n",
    "What is the sum of the numbers on the diagonals in a 1001 by 1001 spiral formed in the same way?\n"
   ]
  },
  {
   "cell_type": "markdown",
   "metadata": {},
   "source": [
    "# Solution\n",
    "Let's explore the example a little bit. Notice that n is always odd in the n-by-n spiral squares. In the first layer, the core, it's just a one (1x1). The next (3-)layer consists of the (3x3 - 1x1) elements and we need to start keeping track of the corner elements now. Note that 9, 7, 5, and 3 are the corner elements of the second layer. Each corner elements is of the form 3^2 - (3-1)i, for i in {0,1,2,3}.\n",
    "\n",
    "In the 5-layer, which consists of the (5x5 - 3x3) elements, we again write down the corner elements: 25, 21, 17, and 13. We see a pattern here: the elements are of the form 5^2 - (5-1)i for i in {0,1,2,3}. \n",
    "\n",
    "Continuing this reasoning gives us that for the *n-*layer, the elements on the corner are: n^2 - (n-1)i for i in {0,1,2,3}. So the total sum of the corner elements of the n-layer is equal to:\n"
   ]
  },
  {
   "cell_type": "markdown",
   "metadata": {},
   "source": [
    "$$4n^{2} - 6(n-1)$$\n",
    "\n",
    "To find the diagonal numbers of the 1001-by-1001 spiral square, we then sum over this expression for n = 3, 5, ..., 1001.\n"
   ]
  },
  {
   "cell_type": "code",
   "execution_count": null,
   "metadata": {},
   "outputs": [],
   "source": [
    "print(sum([4*n**2-6*(n-1) for n in range(3, 1001 + 1, 2)]) + 1)"
   ]
  }
 ],
 "metadata": {
  "kernelspec": {
   "display_name": "Python 3",
   "language": "python",
   "name": "python3"
  },
  "language_info": {
   "codemirror_mode": {
    "name": "ipython",
    "version": 3
   },
   "file_extension": ".py",
   "mimetype": "text/x-python",
   "name": "python",
   "nbconvert_exporter": "python",
   "pygments_lexer": "ipython3",
   "version": "3.7.0"
  }
 },
 "nbformat": 4,
 "nbformat_minor": 2
}
