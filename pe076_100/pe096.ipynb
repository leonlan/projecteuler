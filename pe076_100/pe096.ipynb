{
 "cells": [
  {
   "cell_type": "markdown",
   "metadata": {},
   "source": [
    "# Problem 96: Su Doku\n",
    "https://projecteuler.net/problem=96\n",
    "\n",
    "## Solution\n",
    "We can solve this problem as an integer linear program (ILP). Define $$x_{ijk} =\\begin{cases}1 \\text{ if number $k$ on row $i$ and column $j$} \\\\ 0 \\text{ otherwise}\\\\\\end{cases},$$ then we can add constraints for each row, each column and each 3x3 block. We also fill in the filled out squares as constraints. Note that there is no objective function."
   ]
  },
  {
   "cell_type": "markdown",
   "metadata": {},
   "source": [
    "# Importing data"
   ]
  },
  {
   "cell_type": "code",
   "execution_count": 98,
   "metadata": {},
   "outputs": [],
   "source": [
    "f = [x.rstrip() for x in open(\"pe096.txt\").readlines()]\n",
    "sudokus = [f[(i*10)+1:(i+1)*10] for i in range(len(f)//10)]"
   ]
  },
  {
   "cell_type": "markdown",
   "metadata": {},
   "source": [
    "# Solver algorithm"
   ]
  },
  {
   "cell_type": "code",
   "execution_count": 95,
   "metadata": {},
   "outputs": [],
   "source": [
    "from pulp import *\n",
    "import numpy as np\n",
    "from itertools import product\n",
    "\n",
    "def solve(sudoku):\n",
    "    \"\"\"Solves an incomplete sudoku and retrieves the concatenation three top left numbers.\"\"\"\n",
    "    model = LpProblem(\"sudoku\", LpMinimize)\n",
    "    \n",
    "    # Decision variables\n",
    "    x = LpVariable.dicts(\"x\", (range(1,10),range(1,10),range(1,10)),cat=\"Binary\")\n",
    "    \n",
    "    # Objective function\n",
    "    model += 0\n",
    "    \n",
    "    # Each column must contain number k exactly once\n",
    "    for j in range(1,10):\n",
    "        for k in range(1,10):\n",
    "            model += lpSum([x[i][j][k] for i in range(1,10)]) == 1\n",
    "            \n",
    "    # Each row must contain number k exactly once\n",
    "    for i in range(1,10):\n",
    "        for k in range(1,10):\n",
    "            model += lpSum([x[i][j][k] for j in range(1,10)]) == 1\n",
    "            \n",
    "    # Each element must contain at least one number\n",
    "    for i in range(1,10):\n",
    "        for j in range(1,10):\n",
    "            model += lpSum([x[i][j][k] for k in range(1,10)]) == 1\n",
    "    \n",
    "    # Each 3x3 block must contain number k exactly once\n",
    "    blocks = list(product([(1,4), (4,7), (7,10)],repeat=2))\n",
    "    for b in blocks:\n",
    "        for k in range(1, 10):\n",
    "            model += lpSum([x[i][j][k] \n",
    "                            for i in range(b[0][0], b[0][1]) \n",
    "                            for j in range(b[1][0], b[1][1])]) == 1\n",
    "    \n",
    "    # Add the constraints from the data\n",
    "    for i in range(9):\n",
    "        for j in range(9):\n",
    "            k = int(sudoku[i][j])\n",
    "            if k != 0:\n",
    "                model += x[i+1][j+1][k] == 1\n",
    "    \n",
    "    # Solve\n",
    "    model.solve(solver=solvers.GUROBI(msg=0))\n",
    "    \n",
    "    # Store the top left corner numbers\n",
    "    tlc = ''  \n",
    "    for j in range(1,4):\n",
    "        for k in range(1,10):\n",
    "            if x[1][j][k].varValue == 1:\n",
    "                tlc += str(k)\n",
    "    return(int(tlc))"
   ]
  },
  {
   "cell_type": "markdown",
   "metadata": {},
   "source": [
    "# Final algorithm"
   ]
  },
  {
   "cell_type": "code",
   "execution_count": 100,
   "metadata": {},
   "outputs": [],
   "source": [
    "def pe096(sudokus):\n",
    "    tlc = [] # Top left corner numbers    \n",
    "    for sudoku in sudokus:\n",
    "        tlc.append(solve(sudoku))\n",
    "    return(sum(tlc))"
   ]
  },
  {
   "cell_type": "code",
   "execution_count": 99,
   "metadata": {},
   "outputs": [
    {
     "data": {
      "text/plain": [
       "24702"
      ]
     },
     "execution_count": 99,
     "metadata": {},
     "output_type": "execute_result"
    }
   ],
   "source": [
    "pe096(sudokus)"
   ]
  }
 ],
 "metadata": {
  "kernelspec": {
   "display_name": "Python 3",
   "language": "python",
   "name": "python3"
  },
  "language_info": {
   "codemirror_mode": {
    "name": "ipython",
    "version": 3
   },
   "file_extension": ".py",
   "mimetype": "text/x-python",
   "name": "python",
   "nbconvert_exporter": "python",
   "pygments_lexer": "ipython3",
   "version": "3.7.0"
  }
 },
 "nbformat": 4,
 "nbformat_minor": 2
}
