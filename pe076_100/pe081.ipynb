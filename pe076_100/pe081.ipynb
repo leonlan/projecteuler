{
 "cells": [
  {
   "cell_type": "markdown",
   "metadata": {},
   "source": [
    "# Date solved: 17 November 2018\n",
    "\n",
    "# Problem\n",
    "https://projecteuler.net/problem=81\n",
    "\n",
    "In the 5 by 5 matrix below, the minimal path sum from the top left to the bottom right, by only moving to the right and down, is indicated in bold red and is equal to 2427.\n",
    "\n",
    "$$\n",
    "\\begin{pmatrix}\n",
    "\\color{red}{131} & 673 & 234 & 103 & 18\\\\\n",
    "\\color{red}{201} & \\color{red}{96} & \\color{red}{342} & 965 & 150\\\\\n",
    "630 & 803 & \\color{red}{746} & \\color{red}{422} & 111\\\\\n",
    "537 & 699 & 497 & \\color{red}{121} & 956\\\\\n",
    "805 & 732 & 524 & \\color{red}{37} & \\color{red}{331}\n",
    "\\end{pmatrix}\n",
    "$$\n",
    "\n",
    "Find the minimal path sum, in matrix.txt (right click and \"Save Link/Target As...\"), a 31K text file containing a 80 by 80 matrix, from the top left to the bottom right by only moving right and down."
   ]
  },
  {
   "cell_type": "markdown",
   "metadata": {},
   "source": [
    "# Solution\n",
    "We can use a shortest path algorithm to find the minimal path from top left (source) to bottom right (target). In order to do so, we need to formulate the matrix as a directed graph. Let's take a small matrix as an easy example to construct a directed graph:\n",
    "\n",
    "$$\n",
    "\\begin{pmatrix}\n",
    "100 & 200 & 300 \\\\\n",
    "50 & 100 & 150 \\\\\n",
    "100 & 150 & 200 \\\\\n",
    "\\end{pmatrix}\n",
    "$$\n",
    "\n",
    "## Construction of a directed graph \n",
    "Let $G$ be a directed graph. The number of nodes is equal to the number of elements in the matrix + 1, where the + 1 is necessary to include the source node. Moreover, we denote the nodes with tuples $\\{(s,0), (0,0), (0,1), (0,2), \\dots, (2,1), (2,2)\\}$, where each tuple $(i,j)$ corresponds to the $i+1,j+1$-th element of the matrix and $(s,0)$ is the source node. Mathematically speaking, the top-left element in the matrix is $a_{11}$, but since Python starts indexing with 0, this indexing is more convenient. Hence, the node $(0,0)$ corresponds to the matrix element $a_{11}$. \n",
    "\n",
    "Next, we construct the edges of $G$. Note that we only construct directed edges in this example. First, observe that we can only move to the right and down in the matrix, so we need to construct an edge from element to its right neighbour and its bottom neighbour. Hence, for each node $(i, j)$, we construct an edge from $(i, j)$ to $(i, j+1)$ (right neighbour) and a node from $(i,j)$ to $(i+1,j)$ (bottom neighbour). The length of the edge ($(i,j)$, $(k,l)$) corresponds to the matrix value of $(k,l)$. Furthermore, we add just one edge from node $(s,0)$ to node $(0,0)$ with the length of the matrix elements $a_{11}$.\n",
    "\n",
    "For example, node $(0,0)$ will have an edge to node $(0,1)$ with length $200$ and an edge to node $(1,0)$ with length $50$. \n",
    "\n",
    "Note that we only construct an edge if the neighbour exists (so for node $(2,2)$, there exists no right nor bottom neighbour and hence we do not add any edges.)\n",
    "\n",
    "This completes the graph construction. "
   ]
  },
  {
   "cell_type": "markdown",
   "metadata": {},
   "source": [
    "## Implementation using NetworkX\n",
    "We construct the directed graph using the NetworkX package in Python. This package offers many graph data structures and algorithms that will come in handy for this problem. Moreover, the numpy package will be useful to store the matrix."
   ]
  },
  {
   "cell_type": "code",
   "execution_count": 48,
   "metadata": {},
   "outputs": [],
   "source": [
    "import networkx as nx\n",
    "import numpy as np"
   ]
  },
  {
   "cell_type": "markdown",
   "metadata": {},
   "source": [
    "We start by importing the text file that contains the matrix. It is a plain text file, where each row corresponds to the rows of the matrix. The elements are seperated by commas. "
   ]
  },
  {
   "cell_type": "code",
   "execution_count": 31,
   "metadata": {},
   "outputs": [
    {
     "name": "stdout",
     "output_type": "stream",
     "text": [
      "[[4445 2697 5115 ... 2758 3748 5870]\n",
      " [1096   20 1318 ... 4187 9353 9377]\n",
      " [9607 7385  521 ... 9515 6385 9230]\n",
      " ...\n",
      " [2265 8192 1763 ... 7456 5128 5294]\n",
      " [2132 8992 8160 ... 5634 1113 5789]\n",
      " [5304 5499  564 ... 2751 3406 7981]]\n"
     ]
    }
   ],
   "source": [
    "mat = np.array([x.split(',') \n",
    "                for x in [l.rstrip() \n",
    "                          for l in open(\"pe81.txt\").readlines()]], \n",
    "               dtype='int32')\n",
    "print(mat)"
   ]
  },
  {
   "cell_type": "markdown",
   "metadata": {},
   "source": [
    "Next, we define a function to construct a directed graph from a numpy matrix (according to the path movement rules in this particular problem). "
   ]
  },
  {
   "cell_type": "code",
   "execution_count": 43,
   "metadata": {},
   "outputs": [],
   "source": [
    "def mat_to_DiGraph(M):\n",
    "    \"\"\"Constructs a directed graph (for Problem 81) from a numpy matrix. \"\"\"\n",
    "    G = nx.DiGraph()\n",
    "    n = M.shape[0] # number of rows\n",
    "    m = M.shape[1] # number of cols\n",
    "    \n",
    "    # Construct initial edge from (s,0) to (1,1)\n",
    "    G.add_edge(('s',0),(0,0),weight=M[0,0])\n",
    "    \n",
    "    # Construct the edges for other nodes\n",
    "    for i in range(0, n):\n",
    "        for j in range(0, m):\n",
    "            # Add right and bottom neighbour\n",
    "            if i < n-1 and j < m-1:\n",
    "                G.add_weighted_edges_from([((i,j),(i,j+1),M[i,j+1]),\n",
    "                                           ((i,j),(i+1,j),M[i+1,j])])\n",
    "            \n",
    "            # Only add right neighbour\n",
    "            elif j < m - 1:\n",
    "                G.add_weighted_edges_from([((i,j),(i,j+1),M[i,j+1])])\n",
    "            \n",
    "            # Only add bottom neighbour\n",
    "            elif i < n - 1:\n",
    "                G.add_weighted_edges_from([((i,j),(i+1,j),M[i+1,j])])\n",
    "    \n",
    "    return(G)"
   ]
  },
  {
   "cell_type": "markdown",
   "metadata": {},
   "source": [
    "The final step is to apply the shortest path algorithm. For this, we use Dijkstra's shortest path algorithm, which is also included in the NetworkX package. "
   ]
  },
  {
   "cell_type": "code",
   "execution_count": 47,
   "metadata": {},
   "outputs": [
    {
     "name": "stdout",
     "output_type": "stream",
     "text": [
      "427337\n"
     ]
    }
   ],
   "source": [
    "def minPathSum(M):\n",
    "    \"\"\"Finds the minimum path sum from problem 81.\"\"\"\n",
    "    G = mat_to_DiGraph(M)\n",
    "    n, m = [M.shape[0],M.shape[1]]\n",
    "    return(nx.dijkstra_path_length(G, ('s',0), (n-1,m-1)))\n",
    "\n",
    "print(minPathSum(mat))"
   ]
  }
 ],
 "metadata": {
  "kernelspec": {
   "display_name": "Python 3",
   "language": "python",
   "name": "python3"
  },
  "language_info": {
   "codemirror_mode": {
    "name": "ipython",
    "version": 3
   },
   "file_extension": ".py",
   "mimetype": "text/x-python",
   "name": "python",
   "nbconvert_exporter": "python",
   "pygments_lexer": "ipython3",
   "version": "3.7.0"
  }
 },
 "nbformat": 4,
 "nbformat_minor": 2
}
