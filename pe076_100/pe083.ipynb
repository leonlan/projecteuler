{
 "cells": [
  {
   "cell_type": "markdown",
   "metadata": {},
   "source": [
    "# Date solved: 17 November 2018\n",
    "\n",
    "# Problem\n",
    "https://projecteuler.net/problem=83\n",
    "\n",
    "In the 5 by 5 matrix below, the minimal path sum from the top left to the bottom right, by moving left, right, up, and down, is indicated in bold red and is equal to 2297.\n",
    "\n",
    "$$\n",
    "\\begin{pmatrix}\n",
    "\\color{red}{131} & 673 & \\color{red}{234} & \\color{red}{103} & \\color{red}{18}\\\\\n",
    "\\color{red}{201} & \\color{red}{96} & \\color{red}{342} & 965 & \\color{red}{150}\\\\\n",
    "630 & 803 & 746 & \\color{red}{422} & \\color{red}{111}\\\\\n",
    "537 & 699 & 497 & \\color{red}{121} & 956\\\\\n",
    "805 & 732 & 524 & \\color{red}{37} & \\color{red}{331}\n",
    "\\end{pmatrix}\n",
    "$$\n",
    "\n",
    "Find the minimal path sum, in matrix.txt (right click and \"Save Link/Target As...\"), a 31K text file containing a 80 by 80 matrix, from the top left to the bottom right by moving left, right, up, and down."
   ]
  },
  {
   "cell_type": "markdown",
   "metadata": {},
   "source": [
    "# Solution\n",
    "This problem is almost identical to [Problem 81](pe81.ipynb). We only need to add an edge for the top and left neighbour, while the rest of the problem remains the same."
   ]
  },
  {
   "cell_type": "code",
   "execution_count": 3,
   "metadata": {},
   "outputs": [],
   "source": [
    "import networkx as nx\n",
    "import numpy as np\n",
    "\n",
    "mat = np.array([x.split(',') \n",
    "                for x in [l.rstrip() \n",
    "                          for l in open(\"pe83.txt\").readlines()]], \n",
    "               dtype='int32')"
   ]
  },
  {
   "cell_type": "code",
   "execution_count": 4,
   "metadata": {},
   "outputs": [
    {
     "name": "stdout",
     "output_type": "stream",
     "text": [
      "425185\n"
     ]
    }
   ],
   "source": [
    "def mat_to_DiGraph(M):\n",
    "    \"\"\"Constructs a directed graph (for Problem 83) from a numpy matrix.\"\"\"\n",
    "    G = nx.DiGraph()\n",
    "    n = M.shape[0] # number of rows\n",
    "    m = M.shape[1] # number of cols\n",
    "    \n",
    "    # Construct an edge from each source node to the matrix nodes\n",
    "    G.add_edge(('s',0),(0,0),weight=M[0,0])\n",
    "    \n",
    "    # Construct the edges for other nodes\n",
    "    for i in range(0, n):\n",
    "        for j in range(0, m):\n",
    "            # Add right neighbour\n",
    "            if j < m - 1:\n",
    "                G.add_weighted_edges_from([((i,j),(i,j+1),M[i,j+1])])            \n",
    "            \n",
    "            # Add left neighbour\n",
    "            if j > 0:\n",
    "                G.add_weighted_edges_from([((i,j),(i,j-1),M[i,j-1])])                            \n",
    "            \n",
    "            # Add bottom neighbour\n",
    "            if i < n - 1:\n",
    "                G.add_weighted_edges_from([((i,j),(i+1,j),M[i+1,j])])\n",
    "            \n",
    "            # Add top neighbour\n",
    "            if i > 0:\n",
    "                G.add_weighted_edges_from([((i,j),(i-1,j),M[i-1,j])])\n",
    "    \n",
    "    return(G)\n",
    "\n",
    "def minPathSum(M):\n",
    "    \"\"\"Finds the minimum path sum from Problem 83.\"\"\"\n",
    "    G = mat_to_DiGraph(M)\n",
    "    n, m = [M.shape[0],M.shape[1]]\n",
    "    return(nx.dijkstra_path_length(G, ('s',0), (n-1,m-1)))\n",
    "    \n",
    "print(minPathSum(mat))"
   ]
  }
 ],
 "metadata": {
  "kernelspec": {
   "display_name": "Python 3",
   "language": "python",
   "name": "python3"
  },
  "language_info": {
   "codemirror_mode": {
    "name": "ipython",
    "version": 3
   },
   "file_extension": ".py",
   "mimetype": "text/x-python",
   "name": "python",
   "nbconvert_exporter": "python",
   "pygments_lexer": "ipython3",
   "version": "3.7.0"
  }
 },
 "nbformat": 4,
 "nbformat_minor": 2
}
