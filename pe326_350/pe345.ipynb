{
 "cells": [
  {
   "cell_type": "markdown",
   "metadata": {},
   "source": [
    "# Problem 345: Matrix Sum\n",
    "https://projecteuler.net/problem=345\n",
    "\n",
    "## Solution\n",
    "This problem can be modeled as an integer linear program (ILP) and solved accordingly. Let $A$ be the given matrix ad let $$x_{ij}=\\begin{cases}1 \\text{ if element $A_{ij}$ is picked}\\\\ 0 \\text{ otherwise}\\end{cases}$$ The only two constraints that we need to consider are the row and column constraints, and we maxmize the objective function $$\\sum_{i}\\sum_{j}x_{ij}a_{ij}$$\n"
   ]
  },
  {
   "cell_type": "markdown",
   "metadata": {},
   "source": [
    "# Data"
   ]
  },
  {
   "cell_type": "code",
   "execution_count": 19,
   "metadata": {},
   "outputs": [],
   "source": [
    "import numpy as np \n",
    "\n",
    "data = \"\"\"7  53 183 439 863 497 383 563  79 973 287  63 343 169 583\n",
    "627 343 773 959 943 767 473 103 699 303 957 703 583 639 913\n",
    "447 283 463  29  23 487 463 993 119 883 327 493 423 159 743\n",
    "217 623   3 399 853 407 103 983  89 463 290 516 212 462 350\n",
    "960 376 682 962 300 780 486 502 912 800 250 346 172 812 350\n",
    "870 456 192 162 593 473 915  45 989 873 823 965 425 329 803\n",
    "973 965 905 919 133 673 665 235 509 613 673 815 165 992 326\n",
    "322 148 972 962 286 255 941 541 265 323 925 281 601  95 973\n",
    "445 721  11 525 473  65 511 164 138 672  18 428 154 448 848\n",
    "414 456 310 312 798 104 566 520 302 248 694 976 430 392 198\n",
    "184 829 373 181 631 101 969 613 840 740 778 458 284 760 390\n",
    "821 461 843 513  17 901 711 993 293 157 274  94 192 156 574\n",
    " 34 124   4 878 450 476 712 914 838 669 875 299 823 329 699\n",
    "815 559 813 459 522 788 168 586 966 232 308 833 251 631 107\n",
    "813 883 451 509 615  77 281 613 459 205 380 274 302  35 805\n",
    "\"\"\"\n",
    "\n",
    "A = np.array([int(x) for x in data.split()]).reshape(15,15)"
   ]
  },
  {
   "cell_type": "markdown",
   "metadata": {},
   "source": [
    "# Algorithm"
   ]
  },
  {
   "cell_type": "code",
   "execution_count": 17,
   "metadata": {},
   "outputs": [],
   "source": [
    "from pulp import *\n",
    "\n",
    "def pe345(A):\n",
    "    # Initialize\n",
    "    model = LpProblem(\"matsum\", LpMaximize)\n",
    "    \n",
    "    # Decision variables\n",
    "    x = LpVariable.dicts('x', (range(15), range(15)), cat=\"Binary\")\n",
    "    \n",
    "    # Objective function\n",
    "    model += lpSum([x[i][j]*A[i][j] for i in range(15) for j in range(15)])\n",
    "\n",
    "    # Exactly one element must be chosen in each row\n",
    "    for i in range(15):\n",
    "        model += lpSum([x[i][j] for j in range(15)]) == 1\n",
    "        \n",
    "    # Exactly one element must be chosen in each column\n",
    "    for j in range(15):\n",
    "        model += lpSum([x[i][j] for i in range(15)]) == 1\n",
    "    \n",
    "    model.solve(solver=solvers.GUROBI(msg=0))\n",
    "    \n",
    "    return(int(value(model.objective)))"
   ]
  },
  {
   "cell_type": "code",
   "execution_count": 18,
   "metadata": {},
   "outputs": [
    {
     "data": {
      "text/plain": [
       "13938"
      ]
     },
     "execution_count": 18,
     "metadata": {},
     "output_type": "execute_result"
    }
   ],
   "source": [
    "pe345(A)"
   ]
  }
 ],
 "metadata": {
  "kernelspec": {
   "display_name": "Python 3",
   "language": "python",
   "name": "python3"
  },
  "language_info": {
   "codemirror_mode": {
    "name": "ipython",
    "version": 3
   },
   "file_extension": ".py",
   "mimetype": "text/x-python",
   "name": "python",
   "nbconvert_exporter": "python",
   "pygments_lexer": "ipython3",
   "version": "3.7.0"
  }
 },
 "nbformat": 4,
 "nbformat_minor": 2
}
