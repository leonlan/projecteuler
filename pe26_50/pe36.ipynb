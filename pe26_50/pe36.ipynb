{
 "cells": [
  {
   "cell_type": "markdown",
   "metadata": {},
   "source": [
    "# Date solved: 15 November 2018\n"
   ]
  },
  {
   "cell_type": "markdown",
   "metadata": {},
   "source": [
    "# Problem\n",
    "https://projecteuler.net/problem=36\n",
    "\n",
    "The decimal number, 585 = 10010010012 (binary), is palindromic in both bases.\n",
    "\n",
    "Find the sum of all numbers, less than one million, which are palindromic in base 10 and base 2.\n",
    "\n",
    "(Please note that the palindromic number, in either base, may not include leading zeros.)"
   ]
  },
  {
   "cell_type": "markdown",
   "metadata": {},
   "source": [
    "# Solution\n",
    "\n",
    "Our approach is as follows:\n",
    "* Find all the numbers less than one million that are palindromic in base 10.\n",
    "\n",
    "* For every palindromic number in base 2, check if the number is palindromic in base 2. If True, add to sum."
   ]
  },
  {
   "cell_type": "code",
   "execution_count": 39,
   "metadata": {},
   "outputs": [],
   "source": [
    "# From pe02.py\n",
    "def palindrome(n):\n",
    "\t\"\"\"Checks if n is a palindromic. Also works for strings.\"\"\"\n",
    "\tword = str(n)\n",
    "\tsliceindex = int(len(word)/2)\n",
    "\tif word[:sliceindex] == word[:-sliceindex-1:-1]:\n",
    "\t\treturn True\n",
    "\telse:\n",
    "\t\treturn False"
   ]
  },
  {
   "cell_type": "code",
   "execution_count": 52,
   "metadata": {},
   "outputs": [],
   "source": [
    "def doublebasePalindrome(n):\n",
    "    \"\"\"Finds all numbers up to n in base 2 and 10.\"\"\"\n",
    "    total = 0\n",
    "    baseTen = [x for x in range(1, n) if palindrome(x)]\n",
    "    for n in baseTen:\n",
    "        if palindrome(int(bin(n)[2:])):\n",
    "            total += n\n",
    "    return(total)"
   ]
  },
  {
   "cell_type": "code",
   "execution_count": 53,
   "metadata": {},
   "outputs": [
    {
     "data": {
      "text/plain": [
       "872187"
      ]
     },
     "execution_count": 53,
     "metadata": {},
     "output_type": "execute_result"
    }
   ],
   "source": [
    "doublebasePalindrome(1000000)"
   ]
  }
 ],
 "metadata": {
  "kernelspec": {
   "display_name": "Python 3",
   "language": "python",
   "name": "python3"
  },
  "language_info": {
   "codemirror_mode": {
    "name": "ipython",
    "version": 3
   },
   "file_extension": ".py",
   "mimetype": "text/x-python",
   "name": "python",
   "nbconvert_exporter": "python",
   "pygments_lexer": "ipython3",
   "version": "3.7.0"
  }
 },
 "nbformat": 4,
 "nbformat_minor": 2
}
