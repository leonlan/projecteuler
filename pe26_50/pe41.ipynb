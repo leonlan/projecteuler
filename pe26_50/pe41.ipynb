{
 "cells": [
  {
   "cell_type": "markdown",
   "metadata": {},
   "source": [
    "# Date solved: XX\n",
    "\n",
    "# Problem 41: Pandigital prime\n",
    "https://projecteuler.net/problem=41\n",
    "\n",
    "\n",
    "\n",
    "We shall say that an n-digit number is pandigital if it makes use of all the digits 1 to n exactly once. For example, 2143 is a 4-digit pandigital and is also prime.\n",
    "\n",
    "What is the largest n-digit pandigital prime that exists?\n",
    "\n",
    "    "
   ]
  },
  {
   "cell_type": "markdown",
   "metadata": {},
   "source": [
    "# Solution\n",
    "Note that:\n",
    "* The last digit cannot be in $\\{2, 4, 5, 6, 8\\}$ (divisible by 2 or 5).\n",
    "\n",
    "In order to find the largest pandigital prime, we first check for 9 digits and work our way to 1 digit. \n",
    "\n",
    "For 9 digits, since we know that we can fix the last digit for any element $i$ in $\\{1,3,7,9\\}$, we have to check for 8! permutations + $i$ for each $i$. "
   ]
  },
  {
   "cell_type": "code",
   "execution_count": 44,
   "metadata": {},
   "outputs": [],
   "source": [
    "from math import factorial\n",
    "from itertools import permutations\n",
    "import sys\n",
    "sys.path.append(\"..\")\n",
    "from helperfunctions import prime\n",
    "\n",
    "\n",
    "pool = set(range(1,10))\n",
    "lastdigit = set((1,3,7,9))\n",
    "\n",
    "for i in lastdigit:\n",
    "    perms = permutations(pool-set([i]))\n",
    "    for x in perms:\n",
    "        p = int(''.join(map(str, x))+str(i)) # permutations + the fixed last digit\n",
    "        if prime(p):\n",
    "            print(x)\n",
    "            "
   ]
  },
  {
   "cell_type": "markdown",
   "metadata": {},
   "source": [
    "Seems like there is no 9-digit pandigital prime. Let's create function out of this small example, which checks for all digits n to 1.\n"
   ]
  },
  {
   "cell_type": "code",
   "execution_count": 68,
   "metadata": {},
   "outputs": [],
   "source": [
    "def pandigital_prime(n):\n",
    "    \"\"\"Finds the largest n-digit pandigital prime.\"\"\"\n",
    "    for i in range(n, 1, -1):\n",
    "        pool = set(range(1, i+1))\n",
    "        lastdigit = set(range(1,i+1,2)) - set([5])\n",
    "        largestprime = 0\n",
    "        for j in lastdigit:\n",
    "            perms = permutations(pool-set([j]))\n",
    "            for x in perms:\n",
    "                p = int(''.join(map(str, x))+str(j)) # permutations + the fixed last digit\n",
    "                if prime(p):\n",
    "                    largestprime = max(largestprime, p)\n",
    "    \n",
    "        if largestprime:\n",
    "            return(largestprime)"
   ]
  },
  {
   "cell_type": "code",
   "execution_count": 69,
   "metadata": {},
   "outputs": [
    {
     "name": "stdout",
     "output_type": "stream",
     "text": [
      "1\n"
     ]
    },
    {
     "data": {
      "text/plain": [
       "7652413"
      ]
     },
     "execution_count": 69,
     "metadata": {},
     "output_type": "execute_result"
    }
   ],
   "source": [
    "pandigital_prime(9)"
   ]
  }
 ],
 "metadata": {
  "kernelspec": {
   "display_name": "Python 3",
   "language": "python",
   "name": "python3"
  },
  "language_info": {
   "codemirror_mode": {
    "name": "ipython",
    "version": 3
   },
   "file_extension": ".py",
   "mimetype": "text/x-python",
   "name": "python",
   "nbconvert_exporter": "python",
   "pygments_lexer": "ipython3",
   "version": "3.7.0"
  }
 },
 "nbformat": 4,
 "nbformat_minor": 2
}
