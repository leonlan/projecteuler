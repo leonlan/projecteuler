{
 "cells": [
  {
   "cell_type": "markdown",
   "metadata": {},
   "source": [
    "# Date solved: 25 November 2018\n",
    "\n",
    "# Problem 27: Quadratic primes\n",
    "https://projecteuler.net/problem=27\n",
    "\n",
    "(click the link for introduction to the problem)\n",
    "\n",
    "Find the product of the coefficients, $a$ and $b$, for the quadratic expression that produces the maximum number of primes for consecutive values of $n$, starting with $n=0$."
   ]
  },
  {
   "cell_type": "markdown",
   "metadata": {},
   "source": [
    "# Solution\n",
    "Note the following:\n",
    "* If we consider n = 0, then we have $b$ for the quadratic expression, so $b$ must be prime!\n",
    "* If we consider n = 1, then we have $1+a+b$ for the quadratic expression. Since this must be prime, it must also be odd, which implies that $a+b$ is even. Since $b$ is prime it is also odd, so $a$ must be odd as well. Now we consider two cases: 1) $a$ is postive or 2) $a$ is negative. If $a$ is positive, then we consider all odd numbers for $a < 1000$. If $a$ is negative, we must take care that the quadratic expression is not negative. Hence, we have that $1 + a + b > 0$ which implies $a > -(b + 1)$ or $-a < b+1$. "
   ]
  },
  {
   "cell_type": "code",
   "execution_count": 8,
   "metadata": {},
   "outputs": [
    {
     "data": {
      "text/plain": [
       "-59231"
      ]
     },
     "execution_count": 8,
     "metadata": {},
     "output_type": "execute_result"
    }
   ],
   "source": [
    "import sys\n",
    "sys.path.append(\"..\")\n",
    "from helperfunctions import prime, primelist\n",
    "\n",
    "def consecutive_quadratic_primes(a,b):\n",
    "    \"\"\"Returns the number of consecutive primes produced by the quadratic expresision.\"\"\"\n",
    "    total = 0\n",
    "    n = 0\n",
    "    while True:\n",
    "        quadexp = n**2+n*a+b\n",
    "        if quadexp < 0:\n",
    "            return(total)\n",
    "        elif prime(n**2+n*a+b):\n",
    "            total += 1\n",
    "            n += 1\n",
    "        else:\n",
    "            return(total)\n",
    "        \n",
    "def quadratic_primes(amax, bmax):\n",
    "    \"\"\"Finds the product of the coefficients, a < amax and b < bmax, for which the quadratic expression\n",
    "    produces the maximum number for consecutive n >= 0.\"\"\"\n",
    "    bprimes = primelist(bmax)\n",
    "    result = 0\n",
    "    product = 0\n",
    "    for b in bprimes:\n",
    "        for a in range(1, amax, 2):\n",
    "            # Case 1: a is positive\n",
    "            apositive = consecutive_quadratic_primes(a,b)\n",
    "            if apositive > result:\n",
    "                result = apositive\n",
    "                product = a*b\n",
    "            \n",
    "            # Case 2: a is negative\n",
    "            if a < b + 1:\n",
    "                anegative = consecutive_quadratic_primes(-a,b)\n",
    "                if anegative > result:\n",
    "                    result = anegative\n",
    "                    product = -a*b\n",
    "                \n",
    "    return(product)\n",
    "\n",
    "quadratic_primes(1000,1000)"
   ]
  }
 ],
 "metadata": {
  "kernelspec": {
   "display_name": "Python 3",
   "language": "python",
   "name": "python3"
  },
  "language_info": {
   "codemirror_mode": {
    "name": "ipython",
    "version": 3
   },
   "file_extension": ".py",
   "mimetype": "text/x-python",
   "name": "python",
   "nbconvert_exporter": "python",
   "pygments_lexer": "ipython3",
   "version": "3.7.0"
  }
 },
 "nbformat": 4,
 "nbformat_minor": 2
}
