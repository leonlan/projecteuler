{
 "cells": [
  {
   "cell_type": "markdown",
   "metadata": {},
   "source": [
    "# Problem\n",
    "https://projecteuler.net/problem=35\n",
    "\n",
    "The number, 197, is called a circular prime because all rotations of the digits: 197, 971, and 719, are themselves prime.\n",
    "\n",
    "There are thirteen such primes below 100: 2, 3, 5, 7, 11, 13, 17, 31, 37, 71, 73, 79, and 97.\n",
    "\n",
    "How many circular primes are there below one million?\n",
    "\n"
   ]
  },
  {
   "cell_type": "markdown",
   "metadata": {},
   "source": [
    "# Solution\n",
    "Since we know the number of circular primes below 100, we check for the number of circular primes between 100 and 1000000. For a number to be circular, it means that every digit in the number could end up as the last digit, which clearly means that none of the digits can be even. Moreover, we can also exclude 5 as valid digit, since every number > 10 ending with 5 is non-prime.\n",
    "\n",
    "This leads us to check all the 3, 4, 5 and 6-digit Cartesian products of {1,3,7,9}. We have a useful module for that:"
   ]
  },
  {
   "cell_type": "code",
   "execution_count": 19,
   "metadata": {},
   "outputs": [],
   "source": [
    "from math import ceil, sqrt\n",
    "import itertools"
   ]
  },
  {
   "cell_type": "code",
   "execution_count": 14,
   "metadata": {},
   "outputs": [
    {
     "name": "stdout",
     "output_type": "stream",
     "text": [
      "[(1, 1, 1), (1, 1, 3), (1, 1, 7), (1, 1, 9), (1, 3, 1), (1, 3, 3), (1, 3, 7), (1, 3, 9), (1, 7, 1), (1, 7, 3), (1, 7, 7), (1, 7, 9), (1, 9, 1), (1, 9, 3), (1, 9, 7), (1, 9, 9), (3, 1, 1), (3, 1, 3), (3, 1, 7), (3, 1, 9), (3, 3, 1), (3, 3, 3), (3, 3, 7), (3, 3, 9), (3, 7, 1), (3, 7, 3), (3, 7, 7), (3, 7, 9), (3, 9, 1), (3, 9, 3), (3, 9, 7), (3, 9, 9), (7, 1, 1), (7, 1, 3), (7, 1, 7), (7, 1, 9), (7, 3, 1), (7, 3, 3), (7, 3, 7), (7, 3, 9), (7, 7, 1), (7, 7, 3), (7, 7, 7), (7, 7, 9), (7, 9, 1), (7, 9, 3), (7, 9, 7), (7, 9, 9), (9, 1, 1), (9, 1, 3), (9, 1, 7), (9, 1, 9), (9, 3, 1), (9, 3, 3), (9, 3, 7), (9, 3, 9), (9, 7, 1), (9, 7, 3), (9, 7, 7), (9, 7, 9), (9, 9, 1), (9, 9, 3), (9, 9, 7), (9, 9, 9)]\n"
     ]
    }
   ],
   "source": [
    "digits = [1,3,7,9]\n",
    "directproduct = [p for p in itertools.product(digits, repeat=3)]\n",
    "print(directproduct)"
   ]
  },
  {
   "cell_type": "markdown",
   "metadata": {},
   "source": [
    "The *product* function creates all numbers of $n$ numbers with the given digits. We apply this to 3, 4, 5, and 6 digits, and for each of the numbers we verify whether it is prime or not:"
   ]
  },
  {
   "cell_type": "code",
   "execution_count": 29,
   "metadata": {},
   "outputs": [],
   "source": [
    "def prime(n):\n",
    "\t\"\"\"Returns whether n is prime or not.\"\"\"\n",
    "\t\n",
    "\t# Case 1: n is even\n",
    "\tif n % 2 == 0:\n",
    "\t\treturn False\n",
    "\n",
    "\t# Case 2: n is odd\t\n",
    "\tfor i in range(3, ceil(sqrt(n))+1, 2):\n",
    "\t\tif n % i == 0:\n",
    "\t\t\treturn False\n",
    "\n",
    "\treturn True\n",
    "\n",
    "def circularprimes(n):\n",
    "    \"\"\"Returns the number of circular primes up to n digits\"\"\"\n",
    "    circularcount = 13\n",
    "    for i in range(3, n):\n",
    "        directproduct = [p for p in itertools.product(digits, repeat=i)]\n",
    "        for n in directproduct:\n",
    "            num = ''.join(map(str, n))\n",
    "            \n",
    "            # Check if each rotation is still prime\n",
    "            for j in range(0, i):\n",
    "                num = num[1:i] + num[0]\n",
    "                if not prime(int(num)):\n",
    "                    break\n",
    "\n",
    "                if j == (i-1) and prime(int(num)):\n",
    "                    circularcount += 1               \n",
    "    return(circularcount)"
   ]
  },
  {
   "cell_type": "code",
   "execution_count": 31,
   "metadata": {},
   "outputs": [],
   "source": [
    "circularprimes(7)"
   ]
  }
 ],
 "metadata": {
  "kernelspec": {
   "display_name": "Python 3",
   "language": "python",
   "name": "python3"
  },
  "language_info": {
   "codemirror_mode": {
    "name": "ipython",
    "version": 3
   },
   "file_extension": ".py",
   "mimetype": "text/x-python",
   "name": "python",
   "nbconvert_exporter": "python",
   "pygments_lexer": "ipython3",
   "version": "3.7.0"
  }
 },
 "nbformat": 4,
 "nbformat_minor": 2
}
