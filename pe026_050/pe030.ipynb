{
 "cells": [
  {
   "cell_type": "markdown",
   "metadata": {},
   "source": [
    "# Date solved: 22 November 2018\n",
    "\n",
    "# Problem 30: Digit fifth power\n",
    "https://projecteuler.net/problem=30\n",
    "\n",
    "\n",
    "\n",
    "Surprisingly there are only three numbers that can be written as the sum of fourth powers of their digits:\n",
    "\n",
    "$$\n",
    "    1634 = 1^{4} + 6^{4} + 3^{4} + 4^{4} \\\\\n",
    "    8208 = 8^{4} + 2^{4} + 0^{4} + 8^{4} \\\\\n",
    "    9474 = 9^{4} + 4^{4} + 7^{4} + 4^{4} \\\\\n",
    "$$\n",
    "As $1 = 1^{4}$ is not a sum it is not included.\n",
    "\n",
    "The sum of these numbers is 1634 + 8208 + 9474 = 19316.\n",
    "\n",
    "Find the sum of all the numbers that can be written as the sum of fifth powers of their digits.\n",
    "\n",
    "    "
   ]
  },
  {
   "cell_type": "markdown",
   "metadata": {},
   "source": [
    "# Solution\n",
    "The fifth power digit sum of $999999$ is equal to $354294$, which has the same number of digits. The fifth power digit sum of $9999999$ is equal to $413343$, which has one less digit.\n",
    "\n",
    "This means that $999999$ is an upper bound for the possible numbers that can be written as the sum of fifth powers of their digits, because any number above $999999$, say $1000000$ (one million) will never have this property. "
   ]
  },
  {
   "cell_type": "code",
   "execution_count": 19,
   "metadata": {},
   "outputs": [
    {
     "data": {
      "text/plain": [
       "443839"
      ]
     },
     "execution_count": 19,
     "metadata": {},
     "output_type": "execute_result"
    }
   ],
   "source": [
    "def digitsum(n, i):\n",
    "    \"\"\"Calculates the i-th digit sum of number n.\"\"\"\n",
    "    return(sum([int(c)**i for c in str(n)]))\n",
    "\n",
    "def fifth_power_digit():\n",
    "    \"\"\"Finds the sum of all the numbers that can be written as the sum of fifth powers of their digits.\"\"\"\n",
    "    result = 0\n",
    "    for n in range(2, 999999):\n",
    "        if digitsum(n, 5) == n:\n",
    "            result += n\n",
    "    return(result)\n",
    "\n",
    "fifth_power_digit()"
   ]
  }
 ],
 "metadata": {
  "kernelspec": {
   "display_name": "Python 3",
   "language": "python",
   "name": "python3"
  },
  "language_info": {
   "codemirror_mode": {
    "name": "ipython",
    "version": 3
   },
   "file_extension": ".py",
   "mimetype": "text/x-python",
   "name": "python",
   "nbconvert_exporter": "python",
   "pygments_lexer": "ipython3",
   "version": "3.7.0"
  }
 },
 "nbformat": 4,
 "nbformat_minor": 2
}
