{
 "cells": [
  {
   "cell_type": "markdown",
   "metadata": {},
   "source": [
    "# Date solved: 26 November 2018\n",
    "\n",
    "# Problem 49: Prime permutations\n",
    "https://projecteuler.net/problem=49\n",
    "\n",
    "The arithmetic sequence, 1487, 4817, 8147, in which each of the terms increases by 3330, is unusual in two ways: (i) each of the three terms are prime, and, (ii) each of the 4-digit numbers are permutations of one another.\n",
    "\n",
    "There are no arithmetic sequences made up of three 1-, 2-, or 3-digit primes, exhibiting this property, but there is one other 4-digit increasing sequence.\n",
    "\n",
    "What 12-digit number do you form by concatenating the three terms in this sequence?"
   ]
  },
  {
   "cell_type": "code",
   "execution_count": 42,
   "metadata": {},
   "outputs": [
    {
     "data": {
      "text/plain": [
       "296962999629"
      ]
     },
     "execution_count": 42,
     "metadata": {},
     "output_type": "execute_result"
    }
   ],
   "source": [
    "import sys\n",
    "sys.path.append(\"..\")\n",
    "from helperfunctions import prime, primelist, sort\n",
    "from itertools import combinations\n",
    "\n",
    "def primepermutations():\n",
    "    \"\"\"Finds the concatenated 4-digit increasing prime permutation sequence.\"\"\"\n",
    "    primes = primelist(10000, start=1000)\n",
    "    permcount = {}\n",
    "    perms = {}\n",
    "    \n",
    "    # Sort each prime\n",
    "    for p in primes:\n",
    "        if p not in [1487, 4817, 8147]:\n",
    "            try:\n",
    "                permcount[sort(p)] += 1\n",
    "            except:\n",
    "                permcount[sort(p)] = 1\n",
    "            perms[p] = sort(p)\n",
    "    \n",
    "    # Retrieve only the primes of which the sorted values are >= 3\n",
    "    sortedperms = [key for key,value in permcount.items() if value >= 3]\n",
    "    pool = []\n",
    "    for x in sortedperms:\n",
    "        pool.append([key for key,value in perms.items() if value == x])\n",
    "    \n",
    "    # Calculate the pairwise differences for every triple in each list\n",
    "    for li in pool:\n",
    "        for triple in combinations(li, 3):\n",
    "            L = list(triple)\n",
    "            if L[1]-L[0] == L[2]-L[1]:\n",
    "                return(int(''.join(map(str,L))))\n",
    "\n",
    "primepermutations()\n"
   ]
  }
 ],
 "metadata": {
  "kernelspec": {
   "display_name": "Python 3",
   "language": "python",
   "name": "python3"
  },
  "language_info": {
   "codemirror_mode": {
    "name": "ipython",
    "version": 3
   },
   "file_extension": ".py",
   "mimetype": "text/x-python",
   "name": "python",
   "nbconvert_exporter": "python",
   "pygments_lexer": "ipython3",
   "version": "3.7.0"
  }
 },
 "nbformat": 4,
 "nbformat_minor": 2
}
