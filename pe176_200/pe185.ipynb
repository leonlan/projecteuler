{
 "cells": [
  {
   "cell_type": "markdown",
   "metadata": {},
   "source": [
    "# Problem 185: Number minds\n",
    "https://projecteuler.net/problem=185\n",
    "\n",
    "## Solution\n",
    "We can solve this problem as an integer linear program. Let $$x_{ij} = \\begin{cases} 1 \\text{ if digit $i$ is $j$}\\\\ 0 \\text{ otherwise}\\end{cases}$$\n",
    "For each guess, we can add an equality constraint. Since the problem states that there is a unique solution, solving this ILP will result in the answer that we are looking for. Note that there is no objective function, because we are only trying to satisfy the equality constraints."
   ]
  },
  {
   "cell_type": "markdown",
   "metadata": {},
   "source": [
    "# Data"
   ]
  },
  {
   "cell_type": "code",
   "execution_count": 10,
   "metadata": {},
   "outputs": [
    {
     "data": {
      "text/plain": [
       "['3847439647293047', '1 correct']"
      ]
     },
     "execution_count": 10,
     "metadata": {},
     "output_type": "execute_result"
    }
   ],
   "source": [
    "f = open('pe185.txt').readlines()\n",
    "guesses = [x.rstrip().split(' ;') for x in f]\n",
    "guesses[1]"
   ]
  },
  {
   "cell_type": "code",
   "execution_count": 71,
   "metadata": {},
   "outputs": [],
   "source": [
    "from pulp import *\n",
    "\n",
    "def pe185(guesses):\n",
    "    # Initialize LP model\n",
    "    model = LpProblem(\"numberminds\", LpMinimize)\n",
    "    \n",
    "    # Decision variables\n",
    "    x = LpVariable.dicts(\"x\", (range(1,17),range(10)),cat=\"Binary\")\n",
    "    \n",
    "    # Objective function\n",
    "    model += 0\n",
    "    \n",
    "    # Constraints\n",
    "    # Each digit may only take 1 value\n",
    "    for i in range(1,17):\n",
    "        model += lpSum([x[i][j]] for j in range(10)) == 1\n",
    "        \n",
    "    for guess in guesses:\n",
    "        correct = int(guess[1][0])\n",
    "        model += lpSum([x[i+1][int(guess[0][i])] for i in range(16)]) == correct\n",
    "    \n",
    "    # Solve\n",
    "    model.solve(solver=solvers.GUROBI(msg=0))\n",
    "    \n",
    "    # Retrieve variables\n",
    "    answer = ''\n",
    "    for i in range(1,17):\n",
    "        for j in range(10):\n",
    "            if x[i][j].varValue == 1:\n",
    "                answer += str(j)\n",
    "                print(i, j)\n",
    "    return(answer)                     "
   ]
  },
  {
   "cell_type": "code",
   "execution_count": 70,
   "metadata": {},
   "outputs": [
    {
     "name": "stdout",
     "output_type": "stream",
     "text": [
      "1 4\n",
      "2 6\n",
      "3 4\n",
      "4 0\n",
      "5 2\n",
      "6 6\n",
      "7 1\n",
      "8 5\n",
      "9 7\n",
      "10 1\n",
      "11 8\n",
      "12 4\n",
      "13 9\n",
      "14 5\n",
      "15 3\n",
      "16 3\n"
     ]
    },
    {
     "data": {
      "text/plain": [
       "'4640261571849533'"
      ]
     },
     "execution_count": 70,
     "metadata": {},
     "output_type": "execute_result"
    }
   ],
   "source": [
    "pe185(guesses)"
   ]
  }
 ],
 "metadata": {
  "kernelspec": {
   "display_name": "Python 3",
   "language": "python",
   "name": "python3"
  },
  "language_info": {
   "codemirror_mode": {
    "name": "ipython",
    "version": 3
   },
   "file_extension": ".py",
   "mimetype": "text/x-python",
   "name": "python",
   "nbconvert_exporter": "python",
   "pygments_lexer": "ipython3",
   "version": "3.7.0"
  }
 },
 "nbformat": 4,
 "nbformat_minor": 2
}
