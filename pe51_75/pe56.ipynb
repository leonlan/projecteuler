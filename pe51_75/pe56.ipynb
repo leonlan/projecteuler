{
 "cells": [
  {
   "cell_type": "markdown",
   "metadata": {},
   "source": [
    "# Date solved: 17 November 2018\n",
    "\n",
    "# Problem\n",
    "https://projecteuler.net/problem=56\n",
    "\n",
    "A googol $(10^{100})$ is a massive number: one followed by one-hundred zeros; $100^{100}$ is almost unimaginably large: one followed by two-hundred zeros. Despite their size, the sum of the digits in each number is only 1.\n",
    "\n",
    "Considering natural numbers of the form, $a^{b}$, where $a, b < 100$, what is the maximum digital sum?\n",
    "\n",
    "    "
   ]
  },
  {
   "cell_type": "markdown",
   "metadata": {},
   "source": [
    "# Solution\n",
    "Observe that $a = 1, 10, 20, 30, \\dots, 90$ will likely not produce the number with largest digital sum, since such numbers have many trailing zeros. Moreover, for $b < 50$, the numbers have a small number, so my gutfeeling tells me that we only need to consider large power factors."
   ]
  },
  {
   "cell_type": "code",
   "execution_count": 9,
   "metadata": {},
   "outputs": [
    {
     "name": "stdout",
     "output_type": "stream",
     "text": [
      "459\n"
     ]
    }
   ],
   "source": [
    "maxDigSum = 0\n",
    "for a in range(2, 100):\n",
    "    for b in range(50, 100):\n",
    "        if a % 10 == 0:\n",
    "            DigSum = sum([int(x) for x in str(a**b)])\n",
    "            if DigSum > maxDigSum:\n",
    "                maxDigSum = DigSum\n",
    "print(maxDigSum)"
   ]
  },
  {
   "cell_type": "markdown",
   "metadata": {},
   "source": [
    "Turns out, this is not the correct answer. So my gutfeeling was wrong! Anyway, Python computes these numbers really fast, so we can just consider all possible options. Let's see what happens if we do include all values for $a$."
   ]
  },
  {
   "cell_type": "code",
   "execution_count": 10,
   "metadata": {},
   "outputs": [
    {
     "name": "stdout",
     "output_type": "stream",
     "text": [
      "972\n"
     ]
    }
   ],
   "source": [
    "maxDigSum = 0\n",
    "for a in range(2, 100):\n",
    "    for b in range(50, 100):\n",
    "        DigSum = sum([int(x) for x in str(a**b)])\n",
    "        if DigSum > maxDigSum:\n",
    "            maxDigSum = DigSum\n",
    "print(maxDigSum)"
   ]
  },
  {
   "cell_type": "markdown",
   "metadata": {},
   "source": [
    "This turns out to be the correct answer. :-)"
   ]
  }
 ],
 "metadata": {
  "kernelspec": {
   "display_name": "Python 3",
   "language": "python",
   "name": "python3"
  },
  "language_info": {
   "codemirror_mode": {
    "name": "ipython",
    "version": 3
   },
   "file_extension": ".py",
   "mimetype": "text/x-python",
   "name": "python",
   "nbconvert_exporter": "python",
   "pygments_lexer": "ipython3",
   "version": "3.7.0"
  }
 },
 "nbformat": 4,
 "nbformat_minor": 2
}
