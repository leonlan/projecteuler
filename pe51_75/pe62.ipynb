{
 "cells": [
  {
   "cell_type": "markdown",
   "metadata": {},
   "source": [
    "# Date solved: XX\n",
    "\n",
    "# Problem 62: Cubic permutations\n",
    "https://projecteuler.net/problem=62\n",
    "\n",
    "\n",
    "\n",
    "The cube, $41063625$ ($345^{3}$), can be permuted to produce two other cubes: $56623104$ ($384^{3}$) and $66430125$ ($405^{3}$). In fact, $41063625$ is the smallest cube which has exactly three permutations of its digits which are also cube.\n",
    "\n",
    "Find the smallest cube for which exactly five permutations of its digits are cube.\n",
    "    "
   ]
  },
  {
   "cell_type": "markdown",
   "metadata": {},
   "source": [
    "# Solution\n",
    "Note the following:\n",
    "* We only consider $n$ such that $n^{3}$ has at least $5$ digits. Otherwise, there are less than $5$ (distinct) permutations.\n",
    "* Any permutation sorted lexicographically will give back the same integer e.g. $321$ and $213$ are both sorted $123$. We can use this to keep track of the number of permutations associated to some cube."
   ]
  },
  {
   "cell_type": "code",
   "execution_count": 22,
   "metadata": {},
   "outputs": [
    {
     "data": {
      "text/plain": [
       "127035954683"
      ]
     },
     "execution_count": 22,
     "metadata": {},
     "output_type": "execute_result"
    }
   ],
   "source": [
    "def sort(n):\n",
    "    return(''.join(sorted(str(n))))\n",
    "\n",
    "def cubic_permutations():\n",
    "    \"\"\"Finds the smallest cube for which exactly five permutations of its digits are cube.\"\"\"\n",
    "    min_digit = 5\n",
    "    perms = {}\n",
    "    cube = {}    \n",
    "    i = 0\n",
    "    while True:\n",
    "        i += 1\n",
    "        if len(str(i**3)) < min_digit:\n",
    "            pass\n",
    "        elif len(str(i**3)) > min_digit:\n",
    "            min_digit += 1\n",
    "            perms = {sort(i):1} # Clean array for new digits\n",
    "            cube = {i**3:sort(i)}\n",
    "        else:\n",
    "            try:\n",
    "                perms[sort(i**3)] += 1\n",
    "            except:\n",
    "                perms[sort(i**3)] = 1\n",
    "            cube[i**3] = sort(i**3)\n",
    "        \n",
    "        if 5 in perms.values():\n",
    "            return(min([key for key,value in cube.items() if perms[value] == 5]))\n",
    "        \n",
    "cubic_permutations()"
   ]
  }
 ],
 "metadata": {
  "kernelspec": {
   "display_name": "Python 3",
   "language": "python",
   "name": "python3"
  },
  "language_info": {
   "codemirror_mode": {
    "name": "ipython",
    "version": 3
   },
   "file_extension": ".py",
   "mimetype": "text/x-python",
   "name": "python",
   "nbconvert_exporter": "python",
   "pygments_lexer": "ipython3",
   "version": "3.7.0"
  }
 },
 "nbformat": 4,
 "nbformat_minor": 2
}
