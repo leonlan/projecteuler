{
 "cells": [
  {
   "cell_type": "markdown",
   "metadata": {},
   "source": [
    "# Date solved: 17 November 2018\n",
    "\n",
    "# Problem\n",
    "https://projecteuler.net/problem=82\n",
    "\n",
    "The minimal path sum in the 5 by 5 matrix below, by starting in any cell in the left column and finishing in any cell in the right column, and only moving up, down, and right, is indicated in red and bold; the sum is equal to 994.\n",
    "\n",
    "$$\n",
    "\\begin{pmatrix}\n",
    "131 & 673 & \\color{red}{234} & \\color{red}{103} & \\color{red}{18}\\\\\n",
    "\\color{red}{201} & \\color{red}{96} & \\color{red}{342} & 965 & 150\\\\\n",
    "630 & 803 & 746 & 422 & 111\\\\\n",
    "537 & 699 & 497 & 121 & 956\\\\\n",
    "805 & 732 & 524 & 37 & 331\n",
    "\\end{pmatrix}\n",
    "$$\n",
    "\n",
    "Find the minimal path sum, in matrix.txt (right click and \"Save Link/Target As...\"), a 31K text file containing a 80 by 80 matrix, from the left column to the right column."
   ]
  },
  {
   "cell_type": "markdown",
   "metadata": {},
   "source": [
    "# Solution\n",
    "This problem is very similar to Problem 81: we can solve this problem by applying the shortest path algorithm to a directed graph defined on the matrix. But there are a few differences: \n",
    "\n",
    "#### Source and target nodes\n",
    "In Problem 81, we had only one source node and one target node. However, in this problem, we are allowed to start at any position in the left column and we have to end at some position in the right column. This means that we have $n$ source and target nodes, where $n$ is the number of rows in the matrix.\n",
    "\n",
    "#### Path movement\n",
    "In Problem 81, we were only allowed to move to the right and downwards, but in this problem we are allowed to move in all directions except to the left. This means that we need to add 1 more edge to each node (if possible), namely an edge that corresponds to the upwards direction.\n",
    "\n",
    "## Construction of the directed graph\n",
    "Let $G$ be a directed graph. The number of nodes is equal to the number of elements in the matrix + the number of source nodes (it will become clear why this is necessary). Using the graph above, this means that we need 25 + 5 nodes to construct the corresponding directed graph. We denote the source nodes as tuples of $$\\{(s, 0), (s, 1), \\dots, (s, 4)\\},$$ where $(s, i)$ denotes the $i+1$-th source node. \n",
    "\n",
    "Moreover, we denote the other nodes with tuples $$\\{(0,0), (0,1), \\dots, (4,3), (4,4)\\},$$ where each tuple $(i,j)$ corresponds to the $i+1,j+1$-th element of the matrix. Mathematically speaking, the top-left element in the matrix is $a_{11}$, i.e. it has subscript $(1,1)$, but since Python starts indexing with 0, this indexing is more convenient. Hence, the node $(0,0)$ corresponds to the matrix element $a_{11}$. \n",
    "\n",
    "Next, we construct the edges of $G$. Note that we only construct directed edges in this example. Lets start with the source nodes. We add one edge from each source node $(s, i)$ to the node $(i,0)$ with length equal to the corresponding matrix element. For example, the edge from $(s, 0)$ to $(0,0)$ has length 131.\n",
    "\n",
    "Furthermore, observe that we can move to the right, down *and up* in the matrix, so we need to construct an edge from element to its right neighbour, its bottom neighbour and its top neighbour. Hence, for each node $(i, j)$, we construct:\n",
    "\n",
    "* an edge from $(i, j)$ to $(i, j+1)$ (right neighbour);\n",
    "* an edge from $(i,j)$ to $(i+1,j)$ (bottom neighbour); \n",
    "* and an edge from $(i,j)$ to $(i-1,j)$ (top neighbour). \n",
    "\n",
    "The length of the edge ($(i,j)$, $(k,l)$) corresponds to the matrix value of $(k,l)$. \n",
    "\n",
    "Note that we only construct an edge if the neighbour exists (so for node $(4,4)$, there exists no right nor bottom neighbour and hence we do not add any edges.)\n",
    "\n",
    "This completes the graph construction. "
   ]
  },
  {
   "cell_type": "code",
   "execution_count": 3,
   "metadata": {},
   "outputs": [],
   "source": [
    "import networkx as nx\n",
    "import numpy as np\n",
    "\n",
    "mat = np.array([x.split(',') \n",
    "                for x in [l.rstrip() \n",
    "                          for l in open(\"pe82.txt\").readlines()]], \n",
    "               dtype='int32')"
   ]
  },
  {
   "cell_type": "code",
   "execution_count": 6,
   "metadata": {},
   "outputs": [
    {
     "name": "stdout",
     "output_type": "stream",
     "text": [
      "260324\n"
     ]
    }
   ],
   "source": [
    "def mat_to_DiGraph(M):\n",
    "    \"\"\"Constructs a directed graph (for Problem 82) from a numpy matrix.\"\"\"\n",
    "    G = nx.DiGraph()\n",
    "    n = M.shape[0] # number of rows\n",
    "    m = M.shape[1] # number of cols\n",
    "    \n",
    "    # Construct an edge from each source node to the matrix nodes\n",
    "    for i in range(0, n):\n",
    "        G.add_edge(('s',i),(i,0),weight=M[i,0])\n",
    "    \n",
    "    # Construct the edges for other nodes\n",
    "    for i in range(0, n):\n",
    "        for j in range(0, m):\n",
    "            # Add right neighbour\n",
    "            if j < m - 1:\n",
    "                G.add_weighted_edges_from([((i,j),(i,j+1),M[i,j+1])])            \n",
    "            \n",
    "            # Add bottom neighbour\n",
    "            if i < n - 1:\n",
    "                G.add_weighted_edges_from([((i,j),(i+1,j),M[i+1,j])])\n",
    "            \n",
    "            # Add top neighbour\n",
    "            if i > 0:\n",
    "                G.add_weighted_edges_from([((i,j),(i-1,j),M[i-1,j])])\n",
    "    \n",
    "    return(G)\n",
    "\n",
    "def minPathSum(M):\n",
    "    \"\"\"Finds the minimum path sum from Problem 82.\"\"\"\n",
    "    G = mat_to_DiGraph(M)\n",
    "    n, m = [M.shape[0],M.shape[1]]\n",
    "    minPath = M[0,:].sum()\n",
    "    for i in range(n):\n",
    "        for j in range(m):\n",
    "            # Calculate the shortest path from every source node to every target node\n",
    "            path = nx.dijkstra_path_length(G, ('s', i), (j,m-1))\n",
    "            if path < minPath:\n",
    "                minPath = path\n",
    "    \n",
    "    return(minPath)\n",
    "\n",
    "print(minPathSum(mat))"
   ]
  },
  {
   "cell_type": "markdown",
   "metadata": {},
   "source": [
    "# Conclusion\n",
    "Though this solution works, its computationally very expensive to perform. Dijkstra's shortest path algorithm is $O(|V|^{2})$, but we apply the shortest path for each possible combination of source and target, i.e. $|V|^{2}$ times. The total computation time is then $O(|V|^{4})$, which is clearly not that good. "
   ]
  }
 ],
 "metadata": {
  "kernelspec": {
   "display_name": "Python 3",
   "language": "python",
   "name": "python3"
  },
  "language_info": {
   "codemirror_mode": {
    "name": "ipython",
    "version": 3
   },
   "file_extension": ".py",
   "mimetype": "text/x-python",
   "name": "python",
   "nbconvert_exporter": "python",
   "pygments_lexer": "ipython3",
   "version": "3.7.0"
  }
 },
 "nbformat": 4,
 "nbformat_minor": 2
}
